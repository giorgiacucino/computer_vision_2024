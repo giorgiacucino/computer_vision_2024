{
  "cells": [
    {
      "cell_type": "markdown",
      "metadata": {
        "id": "DWcADJizoRPS"
      },
      "source": [
        "# YOLO"
      ]
    },
    {
      "cell_type": "code",
      "execution_count": null,
      "metadata": {
        "colab": {
          "base_uri": "https://localhost:8080/"
        },
        "id": "n5W3EufJ2Sda",
        "outputId": "c56b8bd9-9a8a-4ef3-8c91-a0f59400d40d"
      },
      "outputs": [],
      "source": [
        "from google.colab import drive\n",
        "drive.mount('/content/drive')"
      ]
    },
    {
      "cell_type": "code",
      "execution_count": null,
      "metadata": {
        "id": "IaCHXKH22XA8"
      },
      "outputs": [],
      "source": [
        "!ln -s /content/drive/My\\ Drive/runs /content/runs"
      ]
    },
    {
      "cell_type": "code",
      "execution_count": null,
      "metadata": {
        "colab": {
          "base_uri": "https://localhost:8080/"
        },
        "collapsed": true,
        "id": "NEtpsP3x2dbN",
        "outputId": "247ec9f8-1cb1-48f8-fced-bf8fc229be94"
      },
      "outputs": [],
      "source": [
        "!unzip /content/newdataset.zip"
      ]
    },
    {
      "cell_type": "code",
      "execution_count": null,
      "metadata": {
        "colab": {
          "base_uri": "https://localhost:8080/"
        },
        "collapsed": true,
        "id": "NpPG8au910DL",
        "outputId": "54ec024a-8b4f-438c-db79-9f6e40ec5c7a"
      },
      "outputs": [],
      "source": [
        "!pip install ultralytics\n",
        "\n",
        "from ultralytics import YOLO"
      ]
    },
    {
      "cell_type": "code",
      "execution_count": null,
      "metadata": {
        "id": "n5_YXUCF2OTA"
      },
      "outputs": [],
      "source": [
        "yolo_model = YOLO('yolov10n.pt')\n",
        "results = yolo_model.train(data='/content/newdataset/data.yml', epochs=50, imgsz=640, device=0, batch=32)"
      ]
    },
    {
      "cell_type": "code",
      "execution_count": null,
      "metadata": {
        "id": "zXzAe9iuhj1i"
      },
      "outputs": [],
      "source": [
        "yolo_model = YOLO('/content/runs/detect/train23/weights/best.pt')"
      ]
    },
    {
      "cell_type": "code",
      "execution_count": null,
      "metadata": {
        "colab": {
          "base_uri": "https://localhost:8080/"
        },
        "collapsed": true,
        "id": "WdeX0IhMj31d",
        "outputId": "3169737b-fb7f-449e-bc32-8086349e1ef6"
      },
      "outputs": [],
      "source": [
        "yolo_model.val()"
      ]
    },
    {
      "cell_type": "code",
      "execution_count": null,
      "metadata": {
        "colab": {
          "base_uri": "https://localhost:8080/",
          "height": 1000
        },
        "collapsed": true,
        "id": "Dop7cKO7MFhG",
        "outputId": "c7d0b634-8a3d-44b2-b488-83093ba2b198"
      },
      "outputs": [],
      "source": [
        "yolo_model.export(format='tflite')"
      ]
    }
  ],
  "metadata": {
    "accelerator": "GPU",
    "colab": {
      "gpuType": "T4",
      "provenance": []
    },
    "kernelspec": {
      "display_name": "Python 3",
      "name": "python3"
    },
    "language_info": {
      "name": "python"
    }
  },
  "nbformat": 4,
  "nbformat_minor": 0
}
