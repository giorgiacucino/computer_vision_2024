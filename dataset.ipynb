{
  "cells": [
    {
      "cell_type": "markdown",
      "metadata": {
        "id": "dK_X2LLIgRzh"
      },
      "source": [
        "# Load model"
      ]
    },
    {
      "cell_type": "code",
      "execution_count": null,
      "metadata": {
        "id": "8o2UQs4AgQ5C"
      },
      "outputs": [],
      "source": [
        "from google.colab import drive\n",
        "drive.mount('/content/drive')"
      ]
    },
    {
      "cell_type": "code",
      "execution_count": null,
      "metadata": {
        "id": "_eNJwWDJggdf"
      },
      "outputs": [],
      "source": [
        "!ln -s /content/drive/My\\ Drive/runs /content/runs"
      ]
    },
    {
      "cell_type": "code",
      "execution_count": null,
      "metadata": {
        "id": "NxYQn5V1glPD"
      },
      "outputs": [],
      "source": [
        "!pip install ultralytics\n",
        "\n",
        "from ultralytics import YOLO"
      ]
    },
    {
      "cell_type": "code",
      "execution_count": null,
      "metadata": {
        "id": "aX9YgX4xgoFQ"
      },
      "outputs": [],
      "source": [
        "model = YOLO('/content/runs/detect/train10/weights/best.pt')"
      ]
    },
    {
      "cell_type": "code",
      "execution_count": null,
      "metadata": {
        "id": "rhi2_0HIhHjg"
      },
      "outputs": [],
      "source": [
        "# unzip after upload of asl dataset\n",
        "!unzip asl.zip"
      ]
    },
    {
      "cell_type": "markdown",
      "metadata": {
        "id": "-ytMoDHOgZG6"
      },
      "source": [
        "# Dataset Retrivial"
      ]
    },
    {
      "cell_type": "code",
      "execution_count": null,
      "metadata": {
        "id": "6fugDASPf9SJ"
      },
      "outputs": [],
      "source": [
        "import cv2\n",
        "import os\n",
        "\n",
        "img_dir = \"/content/dataset/images\"\n",
        "label_dir = \"/content/dataset/labels\"\n",
        "os.makedirs(img_dir, exist_ok=True)\n",
        "os.makedirs(label_dir, exist_ok=True)\n",
        "classes = [\"A\", \"B\", \"C\", \"D\", \"E\", \"F\", \"G\", \"H\", \"I\", \"J\", \"K\", \"L\", \"M\", \"N\", \"O\", \"P\", \"Q\", \"R\", \"S\", \"T\", \"U\", \"V\", \"W\", \"X\", \"Y\", \"Z\", \"del\", \"space\"]\n",
        "with open('log.txt', 'w') as l:\n",
        "  for i in range(len(classes)):\n",
        "    c = classes[i]\n",
        "    src_dir = f\"/content/asl_alphabet_train/asl_alphabet_train/{c}\"\n",
        "    counter = 0\n",
        "    file_counter = 0\n",
        "    for file in os.listdir(src_dir):\n",
        "    #print(f\"[{c} class]:files found: {file_counter} files\")\n",
        "      file_counter += 1;\n",
        "      img = f'{src_dir}/{file}'\n",
        "      #print(img)\n",
        "      results = model.predict(source=f'{src_dir}/{file}')\n",
        "      # Process results list\n",
        "      #print(results)\n",
        "      for result in results:\n",
        "        boxes = result.boxes\n",
        "        for box in boxes:\n",
        "          # Extract coordinates\n",
        "          #print(box)\n",
        "          x1, y1, x2, y2 = box.xywhn[0]\n",
        "          label = f'{i} {x1} {y1} {x2} {y2}'\n",
        "          #print(f\"x1: {x1}, y1: {y1}, x2: {x2}, y2: {y2}\")\n",
        "          with open(f'{label_dir}/{file[:-4]}.txt', 'w') as f:\n",
        "            f.write(label)\n",
        "          #save the file img in f'{img_dir}/{file}'\n",
        "          cv2.imwrite(f'{img_dir}/{file}', cv2.imread(img))\n",
        "          counter += 1\n",
        "      l.write(f\"[{c} class]: {counter} files found among {file_counter} files\\n\")"
      ]
    },
    {
      "cell_type": "markdown",
      "metadata": {
        "id": "CsHIVt4qhZPO"
      },
      "source": [
        "# Refactoring of the dataset"
      ]
    },
    {
      "cell_type": "code",
      "execution_count": null,
      "metadata": {
        "id": "qAfiw9QbhYtv"
      },
      "outputs": [],
      "source": [
        "from os.path import exists\n",
        "import os\n",
        "import shutil\n",
        "\n",
        "src_dir = \"/content/dataset\"\n",
        "src_img_dir = \"/content/dataset/images\"\n",
        "src_label_dir = \"/content/dataset/labels\"\n",
        "\n",
        "train_size = 1900\n",
        "val_size = 200\n",
        "test_size = 50\n",
        "\n",
        "classes = [\"A\", \"B\", \"C\", \"D\", \"E,\", \"F\", \"G\", \"H\", \"I\", \"J\", \"K\", \"L\", \"M\", \"N\", \"O\", \"P\", \"Q\", \"R\", \"S\", \"T\", \"U\", \"V\", \"W\", \"X\", \"Y\", \"Z\", \"del\", \"space\"]\n",
        "num_classes = len(classes)\n",
        "print(num_classes)\n",
        "\n",
        "os.mkdir(\"./newdataset\")\n",
        "os.mkdir(\"./newdataset/train\")\n",
        "os.mkdir(\"./newdataset/val\")\n",
        "os.mkdir(\"./newdataset/test\")\n",
        "os.mkdir(\"./newdataset/train/images\")\n",
        "os.mkdir(\"./newdataset/train/labels\")\n",
        "os.mkdir(\"./newdataset/val/images\")\n",
        "os.mkdir(\"./newdataset/val/labels\")\n",
        "os.mkdir(\"./newdataset/test/images\")\n",
        "os.mkdir(\"./newdataset/test/labels\")\n",
        "\n",
        "for c in classes:\n",
        "\tcounter = 1\n",
        "\tfiles_counter = 0\n",
        "\twhile counter < 3000:\n",
        "\t\tfilename = f\"{c}{counter}.jpg\"\n",
        "\t\tif os.path.exists(os.path.join(src_img_dir, filename)):\n",
        "\t\t\tfiles_counter += 1\n",
        "\t\t\tif files_counter <= train_size:\n",
        "\t\t\t\tshutil.copyfile(os.path.join(src_img_dir, filename), os.path.join(\"./newdataset/train/images\", filename))\n",
        "\t\t\t\tshutil.copyfile(os.path.join(src_label_dir, filename.replace(\".jpg\", \".txt\")), os.path.join(\"./newdataset/train/labels\", filename.replace(\".jpg\", \".txt\")))\n",
        "\t\t\telif files_counter <= train_size + val_size:\n",
        "\t\t\t\tshutil.copyfile(os.path.join(src_img_dir, filename), os.path.join(\"./newdataset/val/images\", filename))\n",
        "\t\t\t\tshutil.copyfile(os.path.join(src_label_dir, filename.replace(\".jpg\", \".txt\")), os.path.join(\"./newdataset/val/labels\", filename.replace(\".jpg\", \".txt\")))\n",
        "\t\t\telif files_counter <= train_size + val_size + test_size:\n",
        "\t\t\t\tshutil.copyfile(os.path.join(src_img_dir, filename), os.path.join(\"./newdataset/test/images\", filename))\n",
        "\t\t\t\tshutil.copyfile(os.path.join(src_label_dir, filename.replace(\".jpg\", \".txt\")), os.path.join(\"./newdataset/test/labels\", filename.replace(\".jpg\", \".txt\")))\n",
        "\t\t\telse:\n",
        "\t\t\t\tbreak\n",
        "\t\tprint(f\"[Class {c}] {files_counter}/2150 files; {files_counter*100/2150}%\")\n",
        "\t\tcounter += 1"
      ]
    },
    {
      "cell_type": "markdown",
      "metadata": {
        "id": "ZVivOuxzjUsK"
      },
      "source": [
        "# Util: show yolo"
      ]
    },
    {
      "cell_type": "code",
      "execution_count": null,
      "metadata": {
        "id": "xWMGcVU7jRk9"
      },
      "outputs": [],
      "source": [
        "import cv2\n",
        "import numpy\n",
        "\n",
        "def show_yolo(image_path, label_path):\n",
        "    # Read the image\n",
        "    image = cv2.imread(image_path)\n",
        "\n",
        "    # Read the label\n",
        "    with open(label_path, \"r\") as f:\n",
        "        label = f.read().split()\n",
        "\n",
        "    # Get the bounding box coordinates\n",
        "    x_center = float(label[1]) * 640\n",
        "    y_center = float(label[2]) * 640\n",
        "    width = float(label[3]) * 640\n",
        "    height = float(label[4]) * 640\n",
        "\n",
        "    # Calculate the bounding box coordinates\n",
        "    x1 = int(x_center - width / 2)\n",
        "    y1 = int(y_center - height / 2)\n",
        "    x2 = int(x_center + width / 2)\n",
        "    y2 = int(y_center + height / 2)\n",
        "\n",
        "    # Draw the bounding box\n",
        "    cv2.rectangle(image, (x1, y1), (x2, y2), (0, 255, 0), 2)\n",
        "\n",
        "    # Show the image\n",
        "    cv2.imshow(\"Image with bounding box\", image)\n",
        "    cv2.waitKey(0)\n",
        "    cv2.destroyAllWindows()"
      ]
    }
  ],
  "metadata": {
    "colab": {
      "provenance": []
    },
    "kernelspec": {
      "display_name": "Python 3",
      "name": "python3"
    },
    "language_info": {
      "name": "python"
    }
  },
  "nbformat": 4,
  "nbformat_minor": 0
}
